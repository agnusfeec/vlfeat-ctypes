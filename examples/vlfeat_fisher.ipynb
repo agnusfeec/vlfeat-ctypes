{
 "cells": [
  {
   "cell_type": "markdown",
   "metadata": {},
   "source": [
    "# Fisher Vector encoding (FV)"
   ]
  },
  {
   "cell_type": "code",
   "execution_count": 1,
   "metadata": {},
   "outputs": [],
   "source": [
    "from vlfeat.gmm import *\n",
    "from vlfeat.fisher import *\n",
    "from random import random\n",
    "import numpy as np"
   ]
  },
  {
   "cell_type": "code",
   "execution_count": 2,
   "metadata": {},
   "outputs": [],
   "source": [
    "# generate some data for training\n",
    "numData = 1000\n",
    "dimension = 3\n",
    "\n",
    "data = np.random.rand(numData*dimension).astype(np.float32)"
   ]
  },
  {
   "cell_type": "code",
   "execution_count": 3,
   "metadata": {},
   "outputs": [],
   "source": [
    "# create a GMM object and cluster input data to get means, covariances\n",
    "# and priors of the estimated mixture\n",
    "numClusters = 10\n",
    "gmm = vl_gmm_new (VL_TYPE_FLOAT, dimension, numClusters) ;"
   ]
  },
  {
   "cell_type": "code",
   "execution_count": 4,
   "metadata": {},
   "outputs": [],
   "source": [
    "# cluster the data, i.e. learn the GMM\n",
    "vl_gmm_cluster (gmm, data, numData);"
   ]
  },
  {
   "cell_type": "markdown",
   "metadata": {},
   "source": [
    "to deal with the by ref passing, at this moment was used the ctype float array"
   ]
  },
  {
   "cell_type": "code",
   "execution_count": 5,
   "metadata": {},
   "outputs": [],
   "source": [
    "# allocate space for the encoding    \n",
    "enc = (c_float *(2*dimension*numClusters))()"
   ]
  },
  {
   "cell_type": "code",
   "execution_count": 6,
   "metadata": {},
   "outputs": [
    {
     "name": "stdout",
     "output_type": "stream",
     "text": [
      "<type 'numpy.ndarray'> <type 'numpy.float32'> (150,)\n"
     ]
    }
   ],
   "source": [
    "# generate some data for encoding\n",
    "numDataToEncode = 50\n",
    "\n",
    "dataToEncode = np.random.rand(numDataToEncode*dimension).astype(np.float32)\n",
    "print type(dataToEncode), type(dataToEncode[0]), dataToEncode.shape"
   ]
  },
  {
   "cell_type": "code",
   "execution_count": 7,
   "metadata": {},
   "outputs": [],
   "source": [
    "# run fisher encoding\n",
    "num_ops = vl_fisher_encode(enc, VL_TYPE_FLOAT, vl_gmm_get_means(gmm), dimension, \n",
    "                 numClusters, vl_gmm_get_covariances(gmm), \n",
    "                 vl_gmm_get_priors(gmm), dataToEncode, numDataToEncode, \n",
    "                 VL_FISHER_FLAG_IMPROVED)"
   ]
  },
  {
   "cell_type": "code",
   "execution_count": 8,
   "metadata": {},
   "outputs": [
    {
     "name": "stdout",
     "output_type": "stream",
     "text": [
      "<class '__main__.c_float_Array_60'>\n"
     ]
    }
   ],
   "source": [
    "print type(enc)"
   ]
  },
  {
   "cell_type": "code",
   "execution_count": 9,
   "metadata": {},
   "outputs": [
    {
     "name": "stdout",
     "output_type": "stream",
     "text": [
      "<type 'numpy.ndarray'> (60,)\n",
      "[-0.04287256 -0.06507428 -0.10020301 -0.18214983  0.1346008   0.17186874\n",
      " -0.13652709 -0.15981176 -0.19029722  0.19615485  0.07016775  0.1551748\n",
      " -0.1453222   0.1388649  -0.02093714 -0.07870242 -0.05408803  0.07281471\n",
      "  0.03494111  0.10511477  0.17566758  0.20364644  0.13085678  0.2145811\n",
      " -0.09440219  0.17349534 -0.17443787  0.18611111 -0.22595568 -0.15456152\n",
      "  0.07751302 -0.10568154  0.07260053  0.10071547 -0.1104122  -0.16936974\n",
      " -0.059111    0.02460173 -0.06640872 -0.05691591 -0.10911946 -0.13553801\n",
      "  0.16017193  0.04012848 -0.05773102  0.08928745  0.0981173   0.08585645\n",
      " -0.08392892 -0.04438896  0.0790972  -0.06793284  0.02541483  0.28036758\n",
      "  0.15831137 -0.170934   -0.07495537 -0.11649156 -0.09496763  0.14295271]\n"
     ]
    }
   ],
   "source": [
    "fv = np.asarray(enc,dtype=np.float32)\n",
    "print type(fv), fv.shape\n",
    "print fv"
   ]
  },
  {
   "cell_type": "code",
   "execution_count": null,
   "metadata": {},
   "outputs": [],
   "source": []
  }
 ],
 "metadata": {
  "kernelspec": {
   "display_name": "Python 2",
   "language": "python",
   "name": "python2"
  },
  "language_info": {
   "codemirror_mode": {
    "name": "ipython",
    "version": 2
   },
   "file_extension": ".py",
   "mimetype": "text/x-python",
   "name": "python",
   "nbconvert_exporter": "python",
   "pygments_lexer": "ipython2",
   "version": "2.7.15rc1"
  }
 },
 "nbformat": 4,
 "nbformat_minor": 2
}
