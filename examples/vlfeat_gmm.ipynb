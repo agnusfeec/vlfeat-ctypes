{
 "cells": [
  {
   "cell_type": "markdown",
   "metadata": {},
   "source": [
    "# Gaussian Mixture Models (GMM)"
   ]
  },
  {
   "cell_type": "code",
   "execution_count": 1,
   "metadata": {},
   "outputs": [],
   "source": [
    "from vlfeat.gmm import *\n",
    "from random import random\n",
    "import numpy as np"
   ]
  },
  {
   "cell_type": "code",
   "execution_count": 2,
   "metadata": {},
   "outputs": [],
   "source": [
    "# generate some data for running\n",
    "numData = 1000\n",
    "dimension = 3\n",
    "\n",
    "data = [random() for x in range(numData*dimension)]\n",
    "array_data = np.asarray(data,dtype=np.float32)"
   ]
  },
  {
   "cell_type": "code",
   "execution_count": 3,
   "metadata": {},
   "outputs": [
    {
     "name": "stdout",
     "output_type": "stream",
     "text": [
      "<type 'numpy.ndarray'> (3000,)\n",
      "[0.9849168  0.54030895 0.65507126 ... 0.12165529 0.5624702  0.00500118]\n"
     ]
    }
   ],
   "source": [
    "print type(array_data), array_data.shape\n",
    "print array_data"
   ]
  },
  {
   "cell_type": "code",
   "execution_count": 4,
   "metadata": {},
   "outputs": [],
   "source": [
    "# create a new instance of a GMM object for float data\n",
    "numClusters = 10\n",
    "gmm = vl_gmm_new (VL_TYPE_FLOAT, dimension, numClusters) ;"
   ]
  },
  {
   "cell_type": "code",
   "execution_count": 5,
   "metadata": {},
   "outputs": [],
   "source": [
    "# set the maximum number of EM iterations to 100\n",
    "vl_gmm_set_max_num_iterations (gmm, 100) ;\n",
    "# set the initialization to random selection\n",
    "vl_gmm_set_initialization (gmm,VlGMMRand);"
   ]
  },
  {
   "cell_type": "code",
   "execution_count": 6,
   "metadata": {},
   "outputs": [],
   "source": [
    "# cluster the data, i.e. learn the GMM\n",
    "vl_gmm_cluster (gmm, array_data, numData);"
   ]
  },
  {
   "cell_type": "code",
   "execution_count": 7,
   "metadata": {},
   "outputs": [
    {
     "name": "stdout",
     "output_type": "stream",
     "text": [
      "num_data                 =  1000\n",
      "dimension                =  3\n",
      "num_clusters             =  10\n",
      "verbosity                =  0\n",
      "max_number_of_iterations =  100\n"
     ]
    }
   ],
   "source": [
    "print \"num_data                 = \", vl_gmm_get_num_data(gmm)\n",
    "print \"dimension                = \", vl_gmm_get_dimension(gmm)\n",
    "print \"num_clusters             = \", vl_gmm_get_num_clusters(gmm)\n",
    "print \"verbosity                = \", vl_gmm_get_verbosity(gmm)\n",
    "print \"max_number_of_iterations = \", vl_gmm_get_max_num_iterations(gmm)"
   ]
  },
  {
   "cell_type": "code",
   "execution_count": 8,
   "metadata": {},
   "outputs": [],
   "source": [
    "# get the means, covariances, and priors of the GMM\n",
    "means = vl_gmm_get_means(gmm);\n",
    "covariances = vl_gmm_get_covariances(gmm);\n",
    "priors = vl_gmm_get_priors(gmm);"
   ]
  },
  {
   "cell_type": "code",
   "execution_count": 9,
   "metadata": {},
   "outputs": [
    {
     "name": "stdout",
     "output_type": "stream",
     "text": [
      "<type 'numpy.ndarray'> (30,)\n",
      "[0.59462    0.47205934 0.10689756 0.4447806  0.37388813 0.47974092\n",
      " 0.78566086 0.48852962 0.891163   0.8006425  0.14578111 0.5456001\n",
      " 0.1572077  0.46888632 0.17956966 0.8868934  0.5445453  0.43605942\n",
      " 0.55303186 0.90410006 0.8977413  0.30663288 0.43697834 0.8857432\n",
      " 0.06496482 0.46936834 0.6526975  0.43784773 0.85828644 0.46145633]\n"
     ]
    }
   ],
   "source": [
    "print type(means), means.shape\n",
    "print means"
   ]
  },
  {
   "cell_type": "code",
   "execution_count": 10,
   "metadata": {},
   "outputs": [
    {
     "name": "stdout",
     "output_type": "stream",
     "text": [
      "<type 'numpy.ndarray'> (30,)\n",
      "[0.04363025 0.06872921 0.00366006 0.03857541 0.05444678 0.03853368\n",
      " 0.01827892 0.04793352 0.00516289 0.01584681 0.00625306 0.0629904\n",
      " 0.00738199 0.07383958 0.01035189 0.00474495 0.04713492 0.05620383\n",
      " 0.07131839 0.00338993 0.00469328 0.01826449 0.05774087 0.00527173\n",
      " 0.00166457 0.08558749 0.02379693 0.05407924 0.00641314 0.0392633 ]\n"
     ]
    }
   ],
   "source": [
    "print type(covariances), covariances.shape\n",
    "print covariances"
   ]
  },
  {
   "cell_type": "code",
   "execution_count": 11,
   "metadata": {},
   "outputs": [
    {
     "name": "stdout",
     "output_type": "stream",
     "text": [
      "<type 'numpy.ndarray'> (10,)\n",
      "[0.09733869 0.25367123 0.06070291 0.06040585 0.0876085  0.12913285\n",
      " 0.03963008 0.0780322  0.08314638 0.11033134]\n"
     ]
    }
   ],
   "source": [
    "print type(priors), priors.shape\n",
    "print priors"
   ]
  },
  {
   "cell_type": "code",
   "execution_count": 12,
   "metadata": {},
   "outputs": [
    {
     "name": "stdout",
     "output_type": "stream",
     "text": [
      "-196.650281592\n"
     ]
    }
   ],
   "source": [
    "#get loglikelihood of the estimated GMM\n",
    "loglikelihood = vl_gmm_get_loglikelihood(gmm)\n",
    "print loglikelihood"
   ]
  },
  {
   "cell_type": "code",
   "execution_count": 13,
   "metadata": {},
   "outputs": [],
   "source": [
    "# get the soft assignments of the data points to each cluster\n",
    "posteriors = vl_gmm_get_posteriors(gmm)"
   ]
  },
  {
   "cell_type": "code",
   "execution_count": 14,
   "metadata": {},
   "outputs": [
    {
     "name": "stdout",
     "output_type": "stream",
     "text": [
      "<type 'numpy.ndarray'> (10000,)\n",
      "[8.17337887e-19 3.71038467e-02 4.70439671e-03 ... 1.55579881e-32\n",
      " 2.99011910e-04 1.11990754e-04]\n"
     ]
    }
   ],
   "source": [
    "print type(posteriors), posteriors.shape\n",
    "print posteriors"
   ]
  },
  {
   "cell_type": "code",
   "execution_count": null,
   "metadata": {},
   "outputs": [],
   "source": []
  }
 ],
 "metadata": {
  "kernelspec": {
   "display_name": "Python 2",
   "language": "python",
   "name": "python2"
  },
  "language_info": {
   "codemirror_mode": {
    "name": "ipython",
    "version": 2
   },
   "file_extension": ".py",
   "mimetype": "text/x-python",
   "name": "python",
   "nbconvert_exporter": "python",
   "pygments_lexer": "ipython2",
   "version": "2.7.15rc1"
  }
 },
 "nbformat": 4,
 "nbformat_minor": 2
}
